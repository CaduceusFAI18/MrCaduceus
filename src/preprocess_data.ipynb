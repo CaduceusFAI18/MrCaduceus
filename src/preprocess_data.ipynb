{
 "cells": [
  {
   "cell_type": "code",
   "execution_count": 40,
   "metadata": {},
   "outputs": [],
   "source": [
    "import pandas as pd\n",
    "import numpy as np\n",
    "import pickle"
   ]
  },
  {
   "cell_type": "code",
   "execution_count": 44,
   "metadata": {},
   "outputs": [],
   "source": [
    "input_files_name  = ['demographic', 'examination', 'medications', 'diet', 'labs', 'questionnaire']"
   ]
  },
  {
   "cell_type": "code",
   "execution_count": 17,
   "metadata": {
    "scrolled": true
   },
   "outputs": [
    {
     "name": "stdout",
     "output_type": "stream",
     "text": [
      "demographic\n",
      "examination\n",
      "medications\n",
      "diet\n",
      "labs\n",
      "questionnaire\n"
     ]
    }
   ],
   "source": [
    "# Use engine python to avoide UnicodeDecode error\n",
    "input_data = {}\n",
    "\n",
    "for file_name in input_files_name:\n",
    "    print(file_name)\n",
    "    input_data[file_name] = pd.read_csv('../data/2014-kaggle/' + file_name + '.csv', encoding='latin-1')"
   ]
  },
  {
   "cell_type": "code",
   "execution_count": 47,
   "metadata": {},
   "outputs": [
    {
     "name": "stdout",
     "output_type": "stream",
     "text": [
      "demographic (10175, 21)\n",
      "Number of columns removed:  0\n",
      "Columns removed and null ratio\n",
      "{}\n",
      "#############\n",
      "examination (9813, 3)\n",
      "Number of columns removed:  0\n",
      "Columns removed and null ratio\n",
      "{}\n",
      "#############\n",
      "medications (20194, 2)\n",
      "Number of columns removed:  0\n",
      "Columns removed and null ratio\n",
      "{}\n",
      "#############\n",
      "diet (9813, 3)\n",
      "Number of columns removed:  0\n",
      "Columns removed and null ratio\n",
      "{}\n",
      "#############\n",
      "labs (9813, 1)\n",
      "Number of columns removed:  0\n",
      "Columns removed and null ratio\n",
      "{}\n",
      "#############\n",
      "questionnaire (10175, 951)\n",
      "Number of columns removed:  0\n",
      "Columns removed and null ratio\n",
      "{}\n",
      "#############\n"
     ]
    }
   ],
   "source": [
    "# For the questionnarie data, change na to 0\n",
    "input_data['questionnaire'].fillna(0, inplace=True)\n",
    "# Preprocessing: \n",
    "#     Remove columns which has more than 20% is null\n",
    "#     Replace the remaining null with median\n",
    "for file_name in input_files_name:\n",
    "    table = input_data[file_name]\n",
    "    table = table.replace(r'^\\s+$', np.nan, regex=True)\n",
    "    columns_to_be_removed = {}\n",
    "    \n",
    "    print(file_name, table.shape)\n",
    "    table = table._get_numeric_data()\n",
    "    for column_name in table:\n",
    "        column_n_na = table[column_name].isna().sum()\n",
    "        if (column_n_na / table.shape[0]) > 0.2: \n",
    "            columns_to_be_removed[column_name] = column_n_na / table.shape[0]\n",
    "        \n",
    "    input_data[file_name] = table.drop(columns=list(columns_to_be_removed.keys()))\n",
    "    print('Number of columns removed: ', len(columns_to_be_removed))\n",
    "    print('Columns removed and null ratio')\n",
    "    print(str(columns_to_be_removed))\n",
    "    \n",
    "    table = input_data[file_name]\n",
    "    for column_name in table:\n",
    "        column_mean = table[column_name].mean\n",
    "        table[column_name].fillna(column_mean, inplace=True)\n",
    "    input_data[file_name] = table\n",
    "    print('#############')"
   ]
  },
  {
   "cell_type": "code",
   "execution_count": 50,
   "metadata": {
    "scrolled": true
   },
   "outputs": [],
   "source": [
    "for file_name in input_files_name:\n",
    "    df = input_data[file_name]\n",
    "    # for column in df.columns:\n",
    "    #    df[column] = df[column].map(lambda x: x.encode('unicode-escape').decode('utf-8'))\n",
    "    df.to_csv('../preprocessed_data/' + file_name + '.csv', encoding=\"utf-8\")"
   ]
  },
  {
   "cell_type": "code",
   "execution_count": null,
   "metadata": {},
   "outputs": [],
   "source": []
  },
  {
   "cell_type": "code",
   "execution_count": null,
   "metadata": {},
   "outputs": [],
   "source": []
  },
  {
   "cell_type": "code",
   "execution_count": null,
   "metadata": {},
   "outputs": [],
   "source": []
  },
  {
   "cell_type": "code",
   "execution_count": null,
   "metadata": {},
   "outputs": [],
   "source": []
  },
  {
   "cell_type": "code",
   "execution_count": null,
   "metadata": {},
   "outputs": [],
   "source": []
  }
 ],
 "metadata": {
  "kernelspec": {
   "display_name": "Python 3",
   "language": "python",
   "name": "python3"
  },
  "language_info": {
   "codemirror_mode": {
    "name": "ipython",
    "version": 3
   },
   "file_extension": ".py",
   "mimetype": "text/x-python",
   "name": "python",
   "nbconvert_exporter": "python",
   "pygments_lexer": "ipython3",
   "version": "3.6.4"
  }
 },
 "nbformat": 4,
 "nbformat_minor": 2
}
