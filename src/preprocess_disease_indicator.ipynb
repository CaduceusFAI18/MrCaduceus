{
 "cells": [
  {
   "cell_type": "code",
   "execution_count": 1,
   "metadata": {},
   "outputs": [],
   "source": [
    "import pandas as pd"
   ]
  },
  {
   "cell_type": "code",
   "execution_count": 2,
   "metadata": {},
   "outputs": [],
   "source": [
    "file_name = '../data/DiseaseIndicators.csv'\n",
    "disease_indicators = pd.read_csv(file_name)"
   ]
  },
  {
   "cell_type": "code",
   "execution_count": 3,
   "metadata": {},
   "outputs": [
    {
     "name": "stdout",
     "output_type": "stream",
     "text": [
      "Index(['Variable Name', 'Variable Description', 'Data File Name',\n",
      "       'Data File Description', 'Begin Year', 'EndYear', 'Component',\n",
      "       'Use Constraints', 'Sensitive_cat', 'ConditionIndicator',\n",
      "       'DiseaseName_char', 'DiseaseCategory', 'ER_bool', 'Overnight_bool',\n",
      "       'DrugIndicator', 'DrugName', 'DrugCategory', 'Notes'],\n",
      "      dtype='object')\n"
     ]
    }
   ],
   "source": [
    "print(disease_indicators.columns)"
   ]
  },
  {
   "cell_type": "code",
   "execution_count": 4,
   "metadata": {},
   "outputs": [
    {
     "name": "stdout",
     "output_type": "stream",
     "text": [
      "Number of disease names:  (170,)\n",
      "Number of unique disease names:  83\n"
     ]
    }
   ],
   "source": [
    "print('Number of disease names: ', disease_indicators['DiseaseName_char'].dropna().shape)\n",
    "print('Number of unique disease names: ', len(set(disease_indicators['DiseaseName_char'].dropna())))"
   ]
  },
  {
   "cell_type": "code",
   "execution_count": 5,
   "metadata": {
    "scrolled": true
   },
   "outputs": [
    {
     "name": "stdout",
     "output_type": "stream",
     "text": [
      "Number of disease category:  (145,)\n",
      "Number of unique disease category:  25\n"
     ]
    }
   ],
   "source": [
    "print('Number of disease category: ', disease_indicators['DiseaseCategory'].dropna().shape)\n",
    "print('Number of unique disease category: ', len(set(disease_indicators['DiseaseCategory'].dropna())))"
   ]
  },
  {
   "cell_type": "code",
   "execution_count": 6,
   "metadata": {},
   "outputs": [],
   "source": [
    "questionnaire = pd.read_pickle('../preprocessed_data/questionnaire.pkl')\n",
    "questionnaire_id = list(questionnaire.columns)\n",
    "\n",
    "disease_indicators_filtered = disease_indicators[disease_indicators['DiseaseName_char'].notnull()]\n"
   ]
  },
  {
   "cell_type": "code",
   "execution_count": 7,
   "metadata": {},
   "outputs": [
    {
     "name": "stdout",
     "output_type": "stream",
     "text": [
      "77\n"
     ]
    }
   ],
   "source": [
    "n_question_id_match = 0\n",
    "unique_question_id = set()\n",
    "for question_id in disease_indicators_filtered['Variable Name']:\n",
    "    if question_id in questionnaire_id:\n",
    "        n_question_id_match += 1\n",
    "print(n_question_id_match)\n",
    "    "
   ]
  }
 ],
 "metadata": {
  "kernelspec": {
   "display_name": "Python 3",
   "language": "python",
   "name": "python3"
  },
  "language_info": {
   "codemirror_mode": {
    "name": "ipython",
    "version": 3
   },
   "file_extension": ".py",
   "mimetype": "text/x-python",
   "name": "python",
   "nbconvert_exporter": "python",
   "pygments_lexer": "ipython3",
   "version": "3.6.4"
  }
 },
 "nbformat": 4,
 "nbformat_minor": 2
}
