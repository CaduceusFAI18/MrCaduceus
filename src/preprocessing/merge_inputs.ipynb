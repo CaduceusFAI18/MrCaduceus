{
 "cells": [
  {
   "cell_type": "code",
   "execution_count": 1,
   "metadata": {},
   "outputs": [
    {
     "name": "stdout",
     "output_type": "stream",
     "text": [
      "demographic\n",
      "shape:  (10175, 36)\n",
      "n_unique_id:  10175\n",
      "examination\n",
      "shape:  (8968, 111)\n",
      "n_unique_id:  8968\n",
      "medications_flatten_sparse\n",
      "shape:  (4034, 1175)\n",
      "n_unique_id:  4034\n",
      "diet\n",
      "shape:  (8531, 89)\n",
      "n_unique_id:  8531\n",
      "labs\n",
      "shape:  (7610, 86)\n",
      "n_unique_id:  7610\n"
     ]
    }
   ],
   "source": [
    "import pandas as pd\n",
    "\n",
    "\n",
    "inputs_name  = ['demographic', 'examination', 'medications_flatten_sparse', 'diet', 'labs']\n",
    "\n",
    "inputs_data = {}\n",
    "\n",
    "for file_name in inputs_name:\n",
    "    print(file_name)\n",
    "    inputs_data[file_name] = pd.read_pickle('../../data/preprocessed/removed_nan_v2/' + file_name + '.pkl')\n",
    "    print('shape: ', inputs_data[file_name].shape)\n",
    "    print('n_unique_id: ', len(inputs_data[file_name]['SEQN'].unique()))"
   ]
  },
  {
   "cell_type": "code",
   "execution_count": 4,
   "metadata": {},
   "outputs": [
    {
     "name": "stdout",
     "output_type": "stream",
     "text": [
      "False\n",
      "False\n",
      "True\n",
      "False\n",
      "False\n"
     ]
    }
   ],
   "source": [
    "print('E78.0' in list(inputs_data['demographic'].columns))\n",
    "print('E78.0' in list(inputs_data['examination'].columns))\n",
    "print('E78.0' in list(inputs_data['medications_flatten_sparse'].columns))\n",
    "print('E78.0' in list(inputs_data['diet'].columns))\n",
    "print('E78.0' in list(inputs_data['labs'].columns))"
   ]
  },
  {
   "cell_type": "code",
   "execution_count": 3,
   "metadata": {},
   "outputs": [
    {
     "name": "stdout",
     "output_type": "stream",
     "text": [
      "merged with  examination\n",
      "shape:  (8968, 146)\n",
      "merged with  medications_flatten_sparse\n",
      "shape:  (3646, 1320)\n",
      "merged with  diet\n",
      "shape:  (3316, 1408)\n",
      "merged with  labs\n",
      "shape:  (3061, 1493)\n",
      "merged_data shape:  (3061, 1493)\n"
     ]
    }
   ],
   "source": [
    "merged_data = inputs_data['demographic']\n",
    "\n",
    "for name in inputs_name:\n",
    "    if name != 'demographic':\n",
    "        print('merged with ', name)\n",
    "        merged_data = merged_data.merge(inputs_data[name], left_on='SEQN', right_on='SEQN', how = 'inner')\n",
    "        print('shape: ', merged_data.shape)\n",
    "\n",
    "print('merged_data shape: ', merged_data.shape)\n",
    "pd.to_pickle(merged_data, '../../data/preprocessed/merged/mergedX.pkl')\n"
   ]
  }
 ],
 "metadata": {
  "kernelspec": {
   "display_name": "Python 3",
   "language": "python",
   "name": "python3"
  },
  "language_info": {
   "codemirror_mode": {
    "name": "ipython",
    "version": 3
   },
   "file_extension": ".py",
   "mimetype": "text/x-python",
   "name": "python",
   "nbconvert_exporter": "python",
   "pygments_lexer": "ipython3",
   "version": "3.6.4"
  }
 },
 "nbformat": 4,
 "nbformat_minor": 2
}
