{
 "cells": [
  {
   "cell_type": "code",
   "execution_count": 1,
   "metadata": {},
   "outputs": [],
   "source": [
    "import pandas as pd"
   ]
  },
  {
   "cell_type": "code",
   "execution_count": 2,
   "metadata": {},
   "outputs": [
    {
     "data": {
      "text/plain": [
       "(5713, 18)"
      ]
     },
     "execution_count": 2,
     "metadata": {},
     "output_type": "execute_result"
    }
   ],
   "source": [
    "file_name = '../../data/raw/DiseaseIndicators.csv'\n",
    "disease_indicators = pd.read_csv(file_name)\n",
    "disease_indicators.shape"
   ]
  },
  {
   "cell_type": "code",
   "execution_count": 4,
   "metadata": {},
   "outputs": [
    {
     "name": "stdout",
     "output_type": "stream",
     "text": [
      "Index(['Variable Name', 'Variable Description', 'Data File Name',\n",
      "       'Data File Description', 'Begin Year', 'EndYear', 'Component',\n",
      "       'Use Constraints', 'Sensitive_cat', 'ConditionIndicator',\n",
      "       'DiseaseName_char', 'DiseaseCategory', 'ER_bool', 'Overnight_bool',\n",
      "       'DrugIndicator', 'DrugName', 'DrugCategory', 'Notes'],\n",
      "      dtype='object')\n"
     ]
    }
   ],
   "source": [
    "print(disease_indicators.columns)"
   ]
  },
  {
   "cell_type": "code",
   "execution_count": 5,
   "metadata": {},
   "outputs": [
    {
     "name": "stdout",
     "output_type": "stream",
     "text": [
      "Number of disease names:  (170,)\n",
      "Number of unique disease names:  83\n"
     ]
    }
   ],
   "source": [
    "print('Number of disease names: ', disease_indicators['DiseaseName_char'].dropna().shape)\n",
    "print('Number of unique disease names: ', len(set(disease_indicators['DiseaseName_char'].dropna())))"
   ]
  },
  {
   "cell_type": "code",
   "execution_count": 6,
   "metadata": {
    "scrolled": true
   },
   "outputs": [
    {
     "name": "stdout",
     "output_type": "stream",
     "text": [
      "Number of disease category:  (145,)\n",
      "Number of unique disease category:  25\n"
     ]
    }
   ],
   "source": [
    "print('Number of disease category: ', disease_indicators['DiseaseCategory'].dropna().shape)\n",
    "print('Number of unique disease category: ', len(set(disease_indicators['DiseaseCategory'].dropna())))"
   ]
  },
  {
   "cell_type": "code",
   "execution_count": 7,
   "metadata": {},
   "outputs": [],
   "source": [
    "questionnaire = pd.read_pickle('../preprocessed_data/questionnaire.pkl')\n",
    "questionnaire_id = list(questionnaire.columns)\n",
    "\n",
    "disease_indicators_filtered = disease_indicators[disease_indicators['DiseaseName_char'].notnull()]\n"
   ]
  },
  {
   "cell_type": "code",
   "execution_count": 8,
   "metadata": {
    "scrolled": true
   },
   "outputs": [
    {
     "name": "stdout",
     "output_type": "stream",
     "text": [
      "77\n"
     ]
    }
   ],
   "source": [
    "n_question_id_match = 0\n",
    "unique_question_id = set()\n",
    "for question_id in disease_indicators_filtered['Variable Name']:\n",
    "    if question_id in questionnaire_id:\n",
    "        n_question_id_match += 1\n",
    "print(n_question_id_match)\n",
    "    "
   ]
  },
  {
   "cell_type": "code",
   "execution_count": 9,
   "metadata": {},
   "outputs": [
    {
     "name": "stdout",
     "output_type": "stream",
     "text": [
      "(170, 2)\n",
      "<bound method NDFrame.head of      Variable Name         DiseaseName_char\n",
      "525         CSQ241          Post-Natal Care\n",
      "567         MGD050  Carpal_Tunnel_Arthritis\n",
      "574         MGQ080  Carpal_Tunnel_Arthritis\n",
      "577         MGQ110  Carpal_Tunnel_Arthritis\n",
      "1301        OHAREC              Dental Care\n",
      "1303      OHAROCCI              Dental Care\n",
      "1304      OHAROCDE              Dental Care\n",
      "1305      OHAROCDT              Dental Care\n",
      "1306      OHAROCGP              Dental Care\n",
      "1307      OHAROCOH              Dental Care\n",
      "1308       OHAROTH              Dental Care\n",
      "4135        DLQ010                 Deafness\n",
      "4136        DLQ020                Blindness\n",
      "4137        DLQ040             MentalHealth\n",
      "4140        DLQ080             MentalHealth\n",
      "4151      OSD030aa              HipFracture\n",
      "4152      OSD030ab              HipFracture\n",
      "4153      OSD030ac              HipFracture\n",
      "4154      OSD030ba            WristFracture\n",
      "4155      OSD030bb            WristFracture\n",
      "4156      OSD030bc            WristFracture\n",
      "4157      OSD030bd            WristFracture\n",
      "4158      OSD030be            WristFracture\n",
      "4159      OSD030bf            WristFracture\n",
      "4160      OSD030bg            WristFracture\n",
      "4182       OSQ010a              FractureHip\n",
      "4183       OSQ010b            FractureWrist\n",
      "4184       OSQ010c            FractureSpine\n",
      "4204        OSQ060             Osteoporosis\n",
      "4205        OSQ072             Osteoporosis\n",
      "...            ...                      ...\n",
      "4610       PFQ061E         MovementDisorder\n",
      "4611       PFQ061F         MovementDisorder\n",
      "4612       PFQ061G         MovementDisorder\n",
      "4613       PFQ061H         MovementDisorder\n",
      "4614       PFQ061I         MovementDisorder\n",
      "4615       PFQ061J         MovementDisorder\n",
      "4616       PFQ061K         MovementDisorder\n",
      "4617       PFQ061L         MovementDisorder\n",
      "4618       PFQ061M         MovementDisorder\n",
      "4619       PFQ061N         MovementDisorder\n",
      "4620       PFQ061O         MovementDisorder\n",
      "4621       PFQ061P         MovementDisorder\n",
      "4622       PFQ061Q         MovementDisorder\n",
      "4623       PFQ061R         MovementDisorder\n",
      "4624       PFQ061S         MovementDisorder\n",
      "4625       PFQ061T         MovementDisorder\n",
      "4633        HEQ010               HepatitisB\n",
      "4635        HEQ030               HepatitisC\n",
      "4645       MCQ080E               Overweight\n",
      "4648        DID040                 Diabetes\n",
      "4649        DID060                 Diabetes\n",
      "4651        DID260                 Diabetes\n",
      "4656        DID341                FootSores\n",
      "4658        DIQ010                 Diabetes\n",
      "4659        DIQ050                 Diabetes\n",
      "4662        DIQ080              Retinopathy\n",
      "4834        CSQ220               Tonsilitis\n",
      "4835        CSQ240               Concussion\n",
      "4836        CSQ250               BrokenFace\n",
      "4837        CSQ260           SinusInfection\n",
      "\n",
      "[170 rows x 2 columns]>\n"
     ]
    }
   ],
   "source": [
    "question_id_and_disease = disease_indicators_filtered[['Variable Name', 'DiseaseName_char']]\n",
    "print(question_id_and_disease.shape)\n",
    "print(question_id_and_disease.head)"
   ]
  },
  {
   "cell_type": "code",
   "execution_count": 30,
   "metadata": {},
   "outputs": [
    {
     "name": "stdout",
     "output_type": "stream",
     "text": [
      "   Variable Name         DiseaseName_char DiseaseCategory TreatmentCode  \\\n",
      "0         MGD050  Carpal_Tunnel_Arthritis           Joint          006O   \n",
      "1         MGQ080  Carpal_Tunnel_Arthritis           Joint          006O   \n",
      "2         MGQ110  Carpal_Tunnel_Arthritis           Joint          006O   \n",
      "10        DLQ010                 Deafness             NaN          7801   \n",
      "11        DLQ020                Blindness             NaN          7801   \n",
      "\n",
      "     Cost                                               info  \n",
      "0   795.0                              Carpal tunnel surgery  \n",
      "1   795.0                              Carpal tunnel surgery  \n",
      "2   795.0                              Carpal tunnel surgery  \n",
      "10  393.0       Specialist consultation same as in blindness  \n",
      "11  393.0  Specialist consultation ( There might be no tr...  \n"
     ]
    }
   ],
   "source": [
    "costs = pd.read_csv(\"../../data/DiseaseCostsV1.0.csv\")\n",
    "merged = question_id_and_disease.merge(costs, on=\"DiseaseName_char\")\n",
    "merged = merged.drop(merged.columns[6], axis=1)\n",
    "merged = merged.dropna(subset = [\"Cost\"])\n",
    "print(merged.head())\n",
    "merged.to_pickle(\"\")"
   ]
  }
 ],
 "metadata": {
  "kernelspec": {
   "display_name": "Python 3",
   "language": "python",
   "name": "python3"
  },
  "language_info": {
   "codemirror_mode": {
    "name": "ipython",
    "version": 3
   },
   "file_extension": ".py",
   "mimetype": "text/x-python",
   "name": "python",
   "nbconvert_exporter": "python",
   "pygments_lexer": "ipython3",
   "version": "3.6.4"
  }
 },
 "nbformat": 4,
 "nbformat_minor": 2
}
