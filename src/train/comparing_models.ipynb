{
 "cells": [
  {
   "cell_type": "code",
   "execution_count": 1,
   "metadata": {},
   "outputs": [
    {
     "name": "stderr",
     "output_type": "stream",
     "text": [
      "/home/tri/anaconda3/lib/python3.6/site-packages/sklearn/ensemble/weight_boosting.py:29: DeprecationWarning: numpy.core.umath_tests is an internal NumPy module and should not be imported. It will be removed in a future NumPy release.\n",
      "  from numpy.core.umath_tests import inner1d\n"
     ]
    }
   ],
   "source": [
    "import pandas as pd\n",
    "import numpy as np\n",
    "import matplotlib.pyplot as plt\n",
    "from sklearn.model_selection import cross_val_score\n",
    "from sklearn.ensemble import RandomForestClassifier\n",
    "from sklearn.neighbors import KNeighborsClassifier\n",
    "from sklearn.linear_model import RidgeClassifierCV\n",
    "from sklearn import preprocessing\n",
    "\n",
    "x = pd.read_pickle('../../data/preprocessed/merged/mergedX.pkl')\n",
    "### Load Y and merge with X\n",
    "y = pd.read_csv('../../data/preprocessed/merged/Y.csv')\n",
    "y = y.merge(x, how='right', on='SEQN').drop(columns=[column for column in list(x) if column != 'SEQN'])\n",
    "y = y.drop(columns=['Unnamed: 0'])\n",
    "y = y.applymap(lambda x: int(x))\n",
    "\n",
    "###\n",
    "diseases = list(y.columns.values)\n",
    "diseases.remove('SEQN')\n",
    "count = {}\n",
    "for disease in diseases:\n",
    "    count[disease] = y[disease].sum()\n",
    "sorted_count = sorted(count.items(), key=lambda kv: kv[1], reverse=True)\n",
    "\n",
    "other_disease = sorted_count[7:]\n",
    "other_disease_count = sum([count[1] for count in other_disease])\n",
    "\n",
    "common_diseases = sorted_count[:7]\n",
    "common_disease_name = [cd[0] for cd in common_diseases]\n",
    "y_most_common = y.loc[:, common_disease_name]\n",
    "\n",
    "\n",
    "###\n",
    "sensitive_variables = ['RIAGENDR', 'RIDAGEYR', 'RIDRETH1', 'RIDRETH3', 'DMQMILIZ', 'DMQADFC', 'DMDBORN4', 'DMDCITZN',\n",
    "                       'DMDEDUC3', 'DMDEDUC2', 'DMDMARTL', 'RIDEXPRG', 'SIALANG', 'SIAINTRP', 'FIALANG', 'FIAINTRP',\n",
    "                       'MIALANG', 'MIAINTRP', 'AIALANGA', 'DMDHRGND', 'DMDHRBR4', 'INDHHIN2', 'INDFMIN2', 'INDFMPIR']\n",
    "age_and_gender_col_id = ['RIAGENDR', 'RIDAGEYR']\n",
    "\n",
    "def encoding_string_labels(df):\n",
    "    label_encoders = {}\n",
    "    string_columns = df.select_dtypes(include=['object'])\n",
    "    for column in string_columns:\n",
    "        label_encoders[column] = preprocessing.LabelEncoder().fit(string_columns[column])\n",
    "        df[column] = label_encoders[column].transform(string_columns[column])\n",
    "    return df, label_encoders\n",
    "\n",
    "x_encoded, x_encoding_labels = encoding_string_labels(x)\n",
    "\n",
    "def compare_rf_model(data, labels, sensitive_vars):\n",
    "    data_cleaned = data.drop(columns=sensitive_vars)\n",
    "    scores = {}\n",
    "    scores_cleaned = {}\n",
    "    n_estimators = [5]\n",
    "    max_depths = [50,75, 100]\n",
    "    for n_estimator in n_estimators:\n",
    "        for max_depth in max_depths:\n",
    "            rfc = RandomForestClassifier(n_estimators=n_estimator, max_depth=max_depth, random_state=0, n_jobs=-1)\n",
    "            scores[str(n_estimator) + ' ' + str(max_depth)] = cross_val_score(rfc, data[data.columns[1:]].as_matrix(),\n",
    "                                                                              labels[labels.columns[1:]].as_matrix(),\n",
    "                                                                              cv=5, scoring='f1_samples')\n",
    "            scores_cleaned[str(n_estimator) + ' ' + str(max_depth)] = cross_val_score(rfc, data_cleaned[data_cleaned.columns[1:]].as_matrix(),\n",
    "                                                                              labels[labels.columns[1:]].as_matrix(),\n",
    "                                                                              cv=5, scoring='f1_samples')\n",
    "    return scores, scores_cleaned\n",
    "\n",
    "def compare_knn_model(data, labels, sensitive_vars):\n",
    "    n_neighbors = [5]\n",
    "    data_cleaned = data.drop(columns=sensitive_vars)\n",
    "    scores = {}\n",
    "    scores_cleaned = {}\n",
    "    for n_neighbor in n_neighbors:\n",
    "        knn = KNeighborsClassifier(n_neighbors=n_neighbor, n_jobs=-1)\n",
    "        scores[n_neighbor] = cross_val_score(knn, data[data.columns[1:]].as_matrix(),\n",
    "                                                 labels[labels.columns[1:]].as_matrix(), cv=10, scoring='f1_samples')\n",
    "        scores_cleaned[n_neighbor] = cross_val_score(knn, data_cleaned[data_cleaned.columns[1:]].as_matrix(),\n",
    "                                             labels[labels.columns[1:]].as_matrix(), cv=10, scoring='f1_samples')\n",
    "    return scores, scores_cleaned\n",
    "\n",
    "def max_scores(scores):\n",
    "    scores_sorted = sorted(list(scores.values()), key=lambda folds_score: folds_score.mean())\n",
    "    return scores_sorted[0].mean(), scores_sorted[0].std() * 2\n",
    "\n",
    "\n",
    "\n",
    "\n",
    "\n",
    "\n",
    "# model_most_common = ['Random Forest(max_depth = 50)', 'KNN(neighbor = 5)', 'Neural Network']\n",
    "# performance_most_common = [0.30, 0.29, 0.57]\n",
    "# error_most_common = [0.03, 0.06, 0.05]\n",
    "# plt.xlabel('Model')\n",
    "# plt.ylabel('F1 score')\n",
    "# plt.errorbar(model_most_common, performance_most_common, error_most_common, linestyle='None', marker='^')\n",
    "# plt.title('Models\\' performance for most common disease')\n",
    "# plt.plot()\n",
    "# plt.show()\n"
   ]
  },
  {
   "cell_type": "code",
   "execution_count": 2,
   "metadata": {},
   "outputs": [
    {
     "name": "stderr",
     "output_type": "stream",
     "text": [
      "/home/tri/anaconda3/lib/python3.6/site-packages/sklearn/metrics/classification.py:1135: UndefinedMetricWarning: F-score is ill-defined and being set to 0.0 in samples with no predicted labels.\n",
      "  'precision', 'predicted', average, warn_for)\n",
      "/home/tri/anaconda3/lib/python3.6/site-packages/sklearn/metrics/classification.py:1137: UndefinedMetricWarning: F-score is ill-defined and being set to 0.0 in samples with no true labels.\n",
      "  'recall', 'true', average, warn_for)\n",
      "/home/tri/anaconda3/lib/python3.6/site-packages/sklearn/metrics/classification.py:1135: UndefinedMetricWarning: F-score is ill-defined and being set to 0.0 in samples with no predicted labels.\n",
      "  'precision', 'predicted', average, warn_for)\n",
      "/home/tri/anaconda3/lib/python3.6/site-packages/sklearn/metrics/classification.py:1137: UndefinedMetricWarning: F-score is ill-defined and being set to 0.0 in samples with no true labels.\n",
      "  'recall', 'true', average, warn_for)\n",
      "/home/tri/anaconda3/lib/python3.6/site-packages/sklearn/metrics/classification.py:1135: UndefinedMetricWarning: F-score is ill-defined and being set to 0.0 in samples with no predicted labels.\n",
      "  'precision', 'predicted', average, warn_for)\n",
      "/home/tri/anaconda3/lib/python3.6/site-packages/sklearn/metrics/classification.py:1137: UndefinedMetricWarning: F-score is ill-defined and being set to 0.0 in samples with no true labels.\n",
      "  'recall', 'true', average, warn_for)\n",
      "/home/tri/anaconda3/lib/python3.6/site-packages/sklearn/metrics/classification.py:1135: UndefinedMetricWarning: F-score is ill-defined and being set to 0.0 in samples with no predicted labels.\n",
      "  'precision', 'predicted', average, warn_for)\n",
      "/home/tri/anaconda3/lib/python3.6/site-packages/sklearn/metrics/classification.py:1137: UndefinedMetricWarning: F-score is ill-defined and being set to 0.0 in samples with no true labels.\n",
      "  'recall', 'true', average, warn_for)\n",
      "/home/tri/anaconda3/lib/python3.6/site-packages/sklearn/metrics/classification.py:1135: UndefinedMetricWarning: F-score is ill-defined and being set to 0.0 in samples with no predicted labels.\n",
      "  'precision', 'predicted', average, warn_for)\n",
      "/home/tri/anaconda3/lib/python3.6/site-packages/sklearn/metrics/classification.py:1137: UndefinedMetricWarning: F-score is ill-defined and being set to 0.0 in samples with no true labels.\n",
      "  'recall', 'true', average, warn_for)\n",
      "/home/tri/anaconda3/lib/python3.6/site-packages/sklearn/metrics/classification.py:1135: UndefinedMetricWarning: F-score is ill-defined and being set to 0.0 in samples with no predicted labels.\n",
      "  'precision', 'predicted', average, warn_for)\n",
      "/home/tri/anaconda3/lib/python3.6/site-packages/sklearn/metrics/classification.py:1137: UndefinedMetricWarning: F-score is ill-defined and being set to 0.0 in samples with no true labels.\n",
      "  'recall', 'true', average, warn_for)\n",
      "/home/tri/anaconda3/lib/python3.6/site-packages/sklearn/metrics/classification.py:1135: UndefinedMetricWarning: F-score is ill-defined and being set to 0.0 in samples with no predicted labels.\n",
      "  'precision', 'predicted', average, warn_for)\n",
      "/home/tri/anaconda3/lib/python3.6/site-packages/sklearn/metrics/classification.py:1137: UndefinedMetricWarning: F-score is ill-defined and being set to 0.0 in samples with no true labels.\n",
      "  'recall', 'true', average, warn_for)\n",
      "/home/tri/anaconda3/lib/python3.6/site-packages/sklearn/metrics/classification.py:1135: UndefinedMetricWarning: F-score is ill-defined and being set to 0.0 in samples with no predicted labels.\n",
      "  'precision', 'predicted', average, warn_for)\n",
      "/home/tri/anaconda3/lib/python3.6/site-packages/sklearn/metrics/classification.py:1137: UndefinedMetricWarning: F-score is ill-defined and being set to 0.0 in samples with no true labels.\n",
      "  'recall', 'true', average, warn_for)\n",
      "/home/tri/anaconda3/lib/python3.6/site-packages/sklearn/metrics/classification.py:1135: UndefinedMetricWarning: F-score is ill-defined and being set to 0.0 in samples with no predicted labels.\n",
      "  'precision', 'predicted', average, warn_for)\n",
      "/home/tri/anaconda3/lib/python3.6/site-packages/sklearn/metrics/classification.py:1137: UndefinedMetricWarning: F-score is ill-defined and being set to 0.0 in samples with no true labels.\n",
      "  'recall', 'true', average, warn_for)\n",
      "/home/tri/anaconda3/lib/python3.6/site-packages/sklearn/metrics/classification.py:1135: UndefinedMetricWarning: F-score is ill-defined and being set to 0.0 in samples with no predicted labels.\n",
      "  'precision', 'predicted', average, warn_for)\n",
      "/home/tri/anaconda3/lib/python3.6/site-packages/sklearn/metrics/classification.py:1137: UndefinedMetricWarning: F-score is ill-defined and being set to 0.0 in samples with no true labels.\n",
      "  'recall', 'true', average, warn_for)\n",
      "/home/tri/anaconda3/lib/python3.6/site-packages/sklearn/metrics/classification.py:1135: UndefinedMetricWarning: F-score is ill-defined and being set to 0.0 in samples with no predicted labels.\n",
      "  'precision', 'predicted', average, warn_for)\n",
      "/home/tri/anaconda3/lib/python3.6/site-packages/sklearn/metrics/classification.py:1137: UndefinedMetricWarning: F-score is ill-defined and being set to 0.0 in samples with no true labels.\n",
      "  'recall', 'true', average, warn_for)\n",
      "/home/tri/anaconda3/lib/python3.6/site-packages/sklearn/metrics/classification.py:1135: UndefinedMetricWarning: F-score is ill-defined and being set to 0.0 in samples with no predicted labels.\n",
      "  'precision', 'predicted', average, warn_for)\n",
      "/home/tri/anaconda3/lib/python3.6/site-packages/sklearn/metrics/classification.py:1137: UndefinedMetricWarning: F-score is ill-defined and being set to 0.0 in samples with no true labels.\n",
      "  'recall', 'true', average, warn_for)\n",
      "/home/tri/anaconda3/lib/python3.6/site-packages/sklearn/metrics/classification.py:1135: UndefinedMetricWarning: F-score is ill-defined and being set to 0.0 in samples with no predicted labels.\n",
      "  'precision', 'predicted', average, warn_for)\n",
      "/home/tri/anaconda3/lib/python3.6/site-packages/sklearn/metrics/classification.py:1137: UndefinedMetricWarning: F-score is ill-defined and being set to 0.0 in samples with no true labels.\n",
      "  'recall', 'true', average, warn_for)\n",
      "/home/tri/anaconda3/lib/python3.6/site-packages/sklearn/metrics/classification.py:1135: UndefinedMetricWarning: F-score is ill-defined and being set to 0.0 in samples with no predicted labels.\n",
      "  'precision', 'predicted', average, warn_for)\n",
      "/home/tri/anaconda3/lib/python3.6/site-packages/sklearn/metrics/classification.py:1137: UndefinedMetricWarning: F-score is ill-defined and being set to 0.0 in samples with no true labels.\n",
      "  'recall', 'true', average, warn_for)\n",
      "/home/tri/anaconda3/lib/python3.6/site-packages/sklearn/metrics/classification.py:1135: UndefinedMetricWarning: F-score is ill-defined and being set to 0.0 in samples with no predicted labels.\n",
      "  'precision', 'predicted', average, warn_for)\n",
      "/home/tri/anaconda3/lib/python3.6/site-packages/sklearn/metrics/classification.py:1137: UndefinedMetricWarning: F-score is ill-defined and being set to 0.0 in samples with no true labels.\n",
      "  'recall', 'true', average, warn_for)\n",
      "/home/tri/anaconda3/lib/python3.6/site-packages/sklearn/metrics/classification.py:1135: UndefinedMetricWarning: F-score is ill-defined and being set to 0.0 in samples with no predicted labels.\n",
      "  'precision', 'predicted', average, warn_for)\n",
      "/home/tri/anaconda3/lib/python3.6/site-packages/sklearn/metrics/classification.py:1137: UndefinedMetricWarning: F-score is ill-defined and being set to 0.0 in samples with no true labels.\n",
      "  'recall', 'true', average, warn_for)\n",
      "/home/tri/anaconda3/lib/python3.6/site-packages/sklearn/metrics/classification.py:1135: UndefinedMetricWarning: F-score is ill-defined and being set to 0.0 in samples with no predicted labels.\n",
      "  'precision', 'predicted', average, warn_for)\n",
      "/home/tri/anaconda3/lib/python3.6/site-packages/sklearn/metrics/classification.py:1137: UndefinedMetricWarning: F-score is ill-defined and being set to 0.0 in samples with no true labels.\n",
      "  'recall', 'true', average, warn_for)\n",
      "/home/tri/anaconda3/lib/python3.6/site-packages/sklearn/metrics/classification.py:1135: UndefinedMetricWarning: F-score is ill-defined and being set to 0.0 in samples with no predicted labels.\n",
      "  'precision', 'predicted', average, warn_for)\n",
      "/home/tri/anaconda3/lib/python3.6/site-packages/sklearn/metrics/classification.py:1137: UndefinedMetricWarning: F-score is ill-defined and being set to 0.0 in samples with no true labels.\n",
      "  'recall', 'true', average, warn_for)\n"
     ]
    },
    {
     "name": "stderr",
     "output_type": "stream",
     "text": [
      "/home/tri/anaconda3/lib/python3.6/site-packages/sklearn/metrics/classification.py:1135: UndefinedMetricWarning: F-score is ill-defined and being set to 0.0 in samples with no predicted labels.\n",
      "  'precision', 'predicted', average, warn_for)\n",
      "/home/tri/anaconda3/lib/python3.6/site-packages/sklearn/metrics/classification.py:1137: UndefinedMetricWarning: F-score is ill-defined and being set to 0.0 in samples with no true labels.\n",
      "  'recall', 'true', average, warn_for)\n",
      "/home/tri/anaconda3/lib/python3.6/site-packages/sklearn/metrics/classification.py:1135: UndefinedMetricWarning: F-score is ill-defined and being set to 0.0 in samples with no predicted labels.\n",
      "  'precision', 'predicted', average, warn_for)\n",
      "/home/tri/anaconda3/lib/python3.6/site-packages/sklearn/metrics/classification.py:1137: UndefinedMetricWarning: F-score is ill-defined and being set to 0.0 in samples with no true labels.\n",
      "  'recall', 'true', average, warn_for)\n",
      "/home/tri/anaconda3/lib/python3.6/site-packages/sklearn/metrics/classification.py:1135: UndefinedMetricWarning: F-score is ill-defined and being set to 0.0 in samples with no predicted labels.\n",
      "  'precision', 'predicted', average, warn_for)\n",
      "/home/tri/anaconda3/lib/python3.6/site-packages/sklearn/metrics/classification.py:1137: UndefinedMetricWarning: F-score is ill-defined and being set to 0.0 in samples with no true labels.\n",
      "  'recall', 'true', average, warn_for)\n",
      "/home/tri/anaconda3/lib/python3.6/site-packages/sklearn/metrics/classification.py:1135: UndefinedMetricWarning: F-score is ill-defined and being set to 0.0 in samples with no predicted labels.\n",
      "  'precision', 'predicted', average, warn_for)\n",
      "/home/tri/anaconda3/lib/python3.6/site-packages/sklearn/metrics/classification.py:1137: UndefinedMetricWarning: F-score is ill-defined and being set to 0.0 in samples with no true labels.\n",
      "  'recall', 'true', average, warn_for)\n",
      "/home/tri/anaconda3/lib/python3.6/site-packages/sklearn/metrics/classification.py:1135: UndefinedMetricWarning: F-score is ill-defined and being set to 0.0 in samples with no predicted labels.\n",
      "  'precision', 'predicted', average, warn_for)\n",
      "/home/tri/anaconda3/lib/python3.6/site-packages/sklearn/metrics/classification.py:1137: UndefinedMetricWarning: F-score is ill-defined and being set to 0.0 in samples with no true labels.\n",
      "  'recall', 'true', average, warn_for)\n",
      "/home/tri/anaconda3/lib/python3.6/site-packages/sklearn/metrics/classification.py:1135: UndefinedMetricWarning: F-score is ill-defined and being set to 0.0 in samples with no predicted labels.\n",
      "  'precision', 'predicted', average, warn_for)\n",
      "/home/tri/anaconda3/lib/python3.6/site-packages/sklearn/metrics/classification.py:1137: UndefinedMetricWarning: F-score is ill-defined and being set to 0.0 in samples with no true labels.\n",
      "  'recall', 'true', average, warn_for)\n",
      "/home/tri/anaconda3/lib/python3.6/site-packages/sklearn/metrics/classification.py:1135: UndefinedMetricWarning: F-score is ill-defined and being set to 0.0 in samples with no predicted labels.\n",
      "  'precision', 'predicted', average, warn_for)\n",
      "/home/tri/anaconda3/lib/python3.6/site-packages/sklearn/metrics/classification.py:1137: UndefinedMetricWarning: F-score is ill-defined and being set to 0.0 in samples with no true labels.\n",
      "  'recall', 'true', average, warn_for)\n",
      "/home/tri/anaconda3/lib/python3.6/site-packages/sklearn/metrics/classification.py:1135: UndefinedMetricWarning: F-score is ill-defined and being set to 0.0 in samples with no predicted labels.\n",
      "  'precision', 'predicted', average, warn_for)\n",
      "/home/tri/anaconda3/lib/python3.6/site-packages/sklearn/metrics/classification.py:1137: UndefinedMetricWarning: F-score is ill-defined and being set to 0.0 in samples with no true labels.\n",
      "  'recall', 'true', average, warn_for)\n",
      "/home/tri/anaconda3/lib/python3.6/site-packages/sklearn/metrics/classification.py:1135: UndefinedMetricWarning: F-score is ill-defined and being set to 0.0 in samples with no predicted labels.\n",
      "  'precision', 'predicted', average, warn_for)\n",
      "/home/tri/anaconda3/lib/python3.6/site-packages/sklearn/metrics/classification.py:1137: UndefinedMetricWarning: F-score is ill-defined and being set to 0.0 in samples with no true labels.\n",
      "  'recall', 'true', average, warn_for)\n",
      "/home/tri/anaconda3/lib/python3.6/site-packages/sklearn/metrics/classification.py:1135: UndefinedMetricWarning: F-score is ill-defined and being set to 0.0 in samples with no predicted labels.\n",
      "  'precision', 'predicted', average, warn_for)\n",
      "/home/tri/anaconda3/lib/python3.6/site-packages/sklearn/metrics/classification.py:1137: UndefinedMetricWarning: F-score is ill-defined and being set to 0.0 in samples with no true labels.\n",
      "  'recall', 'true', average, warn_for)\n",
      "/home/tri/anaconda3/lib/python3.6/site-packages/sklearn/metrics/classification.py:1135: UndefinedMetricWarning: F-score is ill-defined and being set to 0.0 in samples with no predicted labels.\n",
      "  'precision', 'predicted', average, warn_for)\n",
      "/home/tri/anaconda3/lib/python3.6/site-packages/sklearn/metrics/classification.py:1137: UndefinedMetricWarning: F-score is ill-defined and being set to 0.0 in samples with no true labels.\n",
      "  'recall', 'true', average, warn_for)\n",
      "/home/tri/anaconda3/lib/python3.6/site-packages/sklearn/metrics/classification.py:1135: UndefinedMetricWarning: F-score is ill-defined and being set to 0.0 in samples with no predicted labels.\n",
      "  'precision', 'predicted', average, warn_for)\n",
      "/home/tri/anaconda3/lib/python3.6/site-packages/sklearn/metrics/classification.py:1137: UndefinedMetricWarning: F-score is ill-defined and being set to 0.0 in samples with no true labels.\n",
      "  'recall', 'true', average, warn_for)\n",
      "/home/tri/anaconda3/lib/python3.6/site-packages/sklearn/metrics/classification.py:1135: UndefinedMetricWarning: F-score is ill-defined and being set to 0.0 in samples with no predicted labels.\n",
      "  'precision', 'predicted', average, warn_for)\n",
      "/home/tri/anaconda3/lib/python3.6/site-packages/sklearn/metrics/classification.py:1137: UndefinedMetricWarning: F-score is ill-defined and being set to 0.0 in samples with no true labels.\n",
      "  'recall', 'true', average, warn_for)\n",
      "/home/tri/anaconda3/lib/python3.6/site-packages/sklearn/metrics/classification.py:1135: UndefinedMetricWarning: F-score is ill-defined and being set to 0.0 in samples with no predicted labels.\n",
      "  'precision', 'predicted', average, warn_for)\n",
      "/home/tri/anaconda3/lib/python3.6/site-packages/sklearn/metrics/classification.py:1137: UndefinedMetricWarning: F-score is ill-defined and being set to 0.0 in samples with no true labels.\n",
      "  'recall', 'true', average, warn_for)\n",
      "/home/tri/anaconda3/lib/python3.6/site-packages/sklearn/metrics/classification.py:1135: UndefinedMetricWarning: F-score is ill-defined and being set to 0.0 in samples with no predicted labels.\n",
      "  'precision', 'predicted', average, warn_for)\n",
      "/home/tri/anaconda3/lib/python3.6/site-packages/sklearn/metrics/classification.py:1137: UndefinedMetricWarning: F-score is ill-defined and being set to 0.0 in samples with no true labels.\n",
      "  'recall', 'true', average, warn_for)\n",
      "/home/tri/anaconda3/lib/python3.6/site-packages/sklearn/metrics/classification.py:1135: UndefinedMetricWarning: F-score is ill-defined and being set to 0.0 in samples with no predicted labels.\n",
      "  'precision', 'predicted', average, warn_for)\n",
      "/home/tri/anaconda3/lib/python3.6/site-packages/sklearn/metrics/classification.py:1137: UndefinedMetricWarning: F-score is ill-defined and being set to 0.0 in samples with no true labels.\n",
      "  'recall', 'true', average, warn_for)\n",
      "/home/tri/anaconda3/lib/python3.6/site-packages/sklearn/metrics/classification.py:1135: UndefinedMetricWarning: F-score is ill-defined and being set to 0.0 in samples with no predicted labels.\n",
      "  'precision', 'predicted', average, warn_for)\n",
      "/home/tri/anaconda3/lib/python3.6/site-packages/sklearn/metrics/classification.py:1137: UndefinedMetricWarning: F-score is ill-defined and being set to 0.0 in samples with no true labels.\n",
      "  'recall', 'true', average, warn_for)\n",
      "/home/tri/anaconda3/lib/python3.6/site-packages/sklearn/metrics/classification.py:1135: UndefinedMetricWarning: F-score is ill-defined and being set to 0.0 in samples with no predicted labels.\n",
      "  'precision', 'predicted', average, warn_for)\n",
      "/home/tri/anaconda3/lib/python3.6/site-packages/sklearn/metrics/classification.py:1137: UndefinedMetricWarning: F-score is ill-defined and being set to 0.0 in samples with no true labels.\n",
      "  'recall', 'true', average, warn_for)\n"
     ]
    },
    {
     "name": "stderr",
     "output_type": "stream",
     "text": [
      "/home/tri/anaconda3/lib/python3.6/site-packages/sklearn/metrics/classification.py:1135: UndefinedMetricWarning: F-score is ill-defined and being set to 0.0 in samples with no predicted labels.\n",
      "  'precision', 'predicted', average, warn_for)\n",
      "/home/tri/anaconda3/lib/python3.6/site-packages/sklearn/metrics/classification.py:1137: UndefinedMetricWarning: F-score is ill-defined and being set to 0.0 in samples with no true labels.\n",
      "  'recall', 'true', average, warn_for)\n",
      "/home/tri/anaconda3/lib/python3.6/site-packages/sklearn/metrics/classification.py:1135: UndefinedMetricWarning: F-score is ill-defined and being set to 0.0 in samples with no predicted labels.\n",
      "  'precision', 'predicted', average, warn_for)\n",
      "/home/tri/anaconda3/lib/python3.6/site-packages/sklearn/metrics/classification.py:1137: UndefinedMetricWarning: F-score is ill-defined and being set to 0.0 in samples with no true labels.\n",
      "  'recall', 'true', average, warn_for)\n",
      "/home/tri/anaconda3/lib/python3.6/site-packages/sklearn/metrics/classification.py:1135: UndefinedMetricWarning: F-score is ill-defined and being set to 0.0 in samples with no predicted labels.\n",
      "  'precision', 'predicted', average, warn_for)\n",
      "/home/tri/anaconda3/lib/python3.6/site-packages/sklearn/metrics/classification.py:1137: UndefinedMetricWarning: F-score is ill-defined and being set to 0.0 in samples with no true labels.\n",
      "  'recall', 'true', average, warn_for)\n",
      "/home/tri/anaconda3/lib/python3.6/site-packages/sklearn/metrics/classification.py:1135: UndefinedMetricWarning: F-score is ill-defined and being set to 0.0 in samples with no predicted labels.\n",
      "  'precision', 'predicted', average, warn_for)\n",
      "/home/tri/anaconda3/lib/python3.6/site-packages/sklearn/metrics/classification.py:1137: UndefinedMetricWarning: F-score is ill-defined and being set to 0.0 in samples with no true labels.\n",
      "  'recall', 'true', average, warn_for)\n",
      "/home/tri/anaconda3/lib/python3.6/site-packages/sklearn/metrics/classification.py:1135: UndefinedMetricWarning: F-score is ill-defined and being set to 0.0 in samples with no predicted labels.\n",
      "  'precision', 'predicted', average, warn_for)\n",
      "/home/tri/anaconda3/lib/python3.6/site-packages/sklearn/metrics/classification.py:1137: UndefinedMetricWarning: F-score is ill-defined and being set to 0.0 in samples with no true labels.\n",
      "  'recall', 'true', average, warn_for)\n",
      "/home/tri/anaconda3/lib/python3.6/site-packages/sklearn/metrics/classification.py:1135: UndefinedMetricWarning: F-score is ill-defined and being set to 0.0 in samples with no predicted labels.\n",
      "  'precision', 'predicted', average, warn_for)\n",
      "/home/tri/anaconda3/lib/python3.6/site-packages/sklearn/metrics/classification.py:1137: UndefinedMetricWarning: F-score is ill-defined and being set to 0.0 in samples with no true labels.\n",
      "  'recall', 'true', average, warn_for)\n",
      "/home/tri/anaconda3/lib/python3.6/site-packages/sklearn/metrics/classification.py:1135: UndefinedMetricWarning: F-score is ill-defined and being set to 0.0 in samples with no predicted labels.\n",
      "  'precision', 'predicted', average, warn_for)\n",
      "/home/tri/anaconda3/lib/python3.6/site-packages/sklearn/metrics/classification.py:1137: UndefinedMetricWarning: F-score is ill-defined and being set to 0.0 in samples with no true labels.\n",
      "  'recall', 'true', average, warn_for)\n",
      "/home/tri/anaconda3/lib/python3.6/site-packages/sklearn/metrics/classification.py:1135: UndefinedMetricWarning: F-score is ill-defined and being set to 0.0 in samples with no predicted labels.\n",
      "  'precision', 'predicted', average, warn_for)\n",
      "/home/tri/anaconda3/lib/python3.6/site-packages/sklearn/metrics/classification.py:1137: UndefinedMetricWarning: F-score is ill-defined and being set to 0.0 in samples with no true labels.\n",
      "  'recall', 'true', average, warn_for)\n",
      "/home/tri/anaconda3/lib/python3.6/site-packages/sklearn/metrics/classification.py:1135: UndefinedMetricWarning: F-score is ill-defined and being set to 0.0 in samples with no predicted labels.\n",
      "  'precision', 'predicted', average, warn_for)\n",
      "/home/tri/anaconda3/lib/python3.6/site-packages/sklearn/metrics/classification.py:1137: UndefinedMetricWarning: F-score is ill-defined and being set to 0.0 in samples with no true labels.\n",
      "  'recall', 'true', average, warn_for)\n",
      "/home/tri/anaconda3/lib/python3.6/site-packages/sklearn/metrics/classification.py:1135: UndefinedMetricWarning: F-score is ill-defined and being set to 0.0 in samples with no predicted labels.\n",
      "  'precision', 'predicted', average, warn_for)\n",
      "/home/tri/anaconda3/lib/python3.6/site-packages/sklearn/metrics/classification.py:1137: UndefinedMetricWarning: F-score is ill-defined and being set to 0.0 in samples with no true labels.\n",
      "  'recall', 'true', average, warn_for)\n",
      "/home/tri/anaconda3/lib/python3.6/site-packages/sklearn/metrics/classification.py:1135: UndefinedMetricWarning: F-score is ill-defined and being set to 0.0 in samples with no predicted labels.\n",
      "  'precision', 'predicted', average, warn_for)\n",
      "/home/tri/anaconda3/lib/python3.6/site-packages/sklearn/metrics/classification.py:1137: UndefinedMetricWarning: F-score is ill-defined and being set to 0.0 in samples with no true labels.\n",
      "  'recall', 'true', average, warn_for)\n",
      "/home/tri/anaconda3/lib/python3.6/site-packages/sklearn/metrics/classification.py:1135: UndefinedMetricWarning: F-score is ill-defined and being set to 0.0 in samples with no predicted labels.\n",
      "  'precision', 'predicted', average, warn_for)\n",
      "/home/tri/anaconda3/lib/python3.6/site-packages/sklearn/metrics/classification.py:1137: UndefinedMetricWarning: F-score is ill-defined and being set to 0.0 in samples with no true labels.\n",
      "  'recall', 'true', average, warn_for)\n",
      "/home/tri/anaconda3/lib/python3.6/site-packages/sklearn/metrics/classification.py:1135: UndefinedMetricWarning: F-score is ill-defined and being set to 0.0 in samples with no predicted labels.\n",
      "  'precision', 'predicted', average, warn_for)\n",
      "/home/tri/anaconda3/lib/python3.6/site-packages/sklearn/metrics/classification.py:1137: UndefinedMetricWarning: F-score is ill-defined and being set to 0.0 in samples with no true labels.\n",
      "  'recall', 'true', average, warn_for)\n",
      "/home/tri/anaconda3/lib/python3.6/site-packages/sklearn/metrics/classification.py:1135: UndefinedMetricWarning: F-score is ill-defined and being set to 0.0 in samples with no predicted labels.\n",
      "  'precision', 'predicted', average, warn_for)\n",
      "/home/tri/anaconda3/lib/python3.6/site-packages/sklearn/metrics/classification.py:1137: UndefinedMetricWarning: F-score is ill-defined and being set to 0.0 in samples with no true labels.\n",
      "  'recall', 'true', average, warn_for)\n"
     ]
    }
   ],
   "source": [
    "scores_rf, scores_rf_cleaned = compare_rf_model(x, y, age_and_gender_col_id)\n",
    "scores_knn, scores_knn_cleaned = compare_knn_model(x, y, age_and_gender_col_id)"
   ]
  },
  {
   "cell_type": "code",
   "execution_count": 13,
   "metadata": {},
   "outputs": [
    {
     "data": {
      "text/plain": [
       "[]"
      ]
     },
     "execution_count": 13,
     "metadata": {},
     "output_type": "execute_result"
    }
   ],
   "source": [
    "scores_sorted = sorted(list(scores_rf_cleaned.values()), key=lambda folds_score: folds_score.mean())\n",
    "scores_sorted"
   ]
  },
  {
   "cell_type": "code",
   "execution_count": 3,
   "metadata": {},
   "outputs": [
    {
     "data": {
      "image/png": "[encoded data removed]",
      "text/plain": [
       "<Figure size 432x288 with 1 Axes>"
      ]
     },
     "metadata": {},
     "output_type": "display_data"
    }
   ],
   "source": [
    "performance, error = zip(*[max_scores(scores_rf), max_scores(scores_rf_cleaned), max_scores(scores_knn), max_scores(scores_knn_cleaned)])\n",
    "\n",
    "model = ['RF', 'KNN', 'RF no age and gender', 'KNN no age and gender']\n",
    "plt.rcParams.update({'font.size': 16})\n",
    "plt.xlabel('Model')\n",
    "plt.ylabel('F1 score')\n",
    "plt.errorbar(model, performance, error, linestyle='None', marker='^')\n",
    "plt.title('Models\\' performance')\n",
    "plt.plot()\n",
    "plt.show()"
   ]
  },
  {
   "cell_type": "code",
   "execution_count": 7,
   "metadata": {},
   "outputs": [
    {
     "name": "stdout",
     "output_type": "stream",
     "text": [
      "Disease:  Dental Care accuracy score: 0.49 (+/- 0.04)\n",
      "Disease:  Hypertension accuracy score: 0.49 (+/- 0.02)\n",
      "Disease:  HighCholesterol accuracy score: 0.49 (+/- 0.04)\n",
      "Disease:  Overweight accuracy score: 0.53 (+/- 0.05)\n",
      "Disease:  Arthritis accuracy score: 0.58 (+/- 0.04)\n",
      "Disease:  GenericProblem accuracy score: 0.64 (+/- 0.02)\n",
      "Disease:  SinusInfection accuracy score: 0.65 (+/- 0.02)\n"
     ]
    }
   ],
   "source": [
    "scores_disease_rf = {}\n",
    "\n",
    "for disease in common_disease_name:\n",
    "    rfc = RandomForestClassifier(n_estimators=5, max_depth=50, n_jobs=-1)\n",
    "    scores_disease_rf[disease] = cross_val_score(rfc, x[x.columns[1:]].as_matrix(), y_most_common[disease].as_matrix(), cv=5)\n",
    "\n",
    "for disease in scores_disease_rf:\n",
    "    print(\"Disease: \", disease, \"accuracy score: %0.2f (+/- %0.2f)\" % (scores_disease_rf[disease].mean(), scores_disease_rf[disease].std() * 2))"
   ]
  },
  {
   "cell_type": "code",
   "execution_count": 8,
   "metadata": {},
   "outputs": [
    {
     "name": "stdout",
     "output_type": "stream",
     "text": [
      "Disease:  Dental Care accuracy score: 0.50 (+/- 0.02)\n",
      "Disease:  Hypertension accuracy score: 0.49 (+/- 0.05)\n",
      "Disease:  HighCholesterol accuracy score: 0.50 (+/- 0.06)\n",
      "Disease:  Overweight accuracy score: 0.54 (+/- 0.03)\n",
      "Disease:  Arthritis accuracy score: 0.59 (+/- 0.02)\n",
      "Disease:  GenericProblem accuracy score: 0.63 (+/- 0.02)\n",
      "Disease:  SinusInfection accuracy score: 0.64 (+/- 0.04)\n",
      "Disease:  Dental Care accuracy score: 0.50 (+/- 0.06)\n",
      "Disease:  Hypertension accuracy score: 0.50 (+/- 0.02)\n",
      "Disease:  HighCholesterol accuracy score: 0.49 (+/- 0.02)\n",
      "Disease:  Overweight accuracy score: 0.53 (+/- 0.02)\n",
      "Disease:  Arthritis accuracy score: 0.59 (+/- 0.03)\n",
      "Disease:  GenericProblem accuracy score: 0.63 (+/- 0.03)\n",
      "Disease:  SinusInfection accuracy score: 0.65 (+/- 0.01)\n"
     ]
    }
   ],
   "source": [
    "x_no_a_g = x.drop(columns=age_and_gender_col_id)\n",
    "x_no_sensitive = x.drop(columns=sensitive_variables)\n",
    "\n",
    "scores_disease_rf_no_a_g = {}\n",
    "scores_disease_rf_no_sensitive = {}\n",
    "\n",
    "for disease in common_disease_name:\n",
    "    rfc = RandomForestClassifier(n_estimators=5, max_depth=50, n_jobs=-1)\n",
    "    scores_disease_rf_no_a_g[disease] = cross_val_score(rfc, x_no_a_g[x_no_a_g.columns[1:]].as_matrix(), y_most_common[disease].as_matrix(), cv=5)\n",
    "    scores_disease_rf_no_sensitive[disease] = cross_val_score(rfc, x_no_sensitive[x_no_sensitive.columns[1:]].as_matrix(), y_most_common[disease].as_matrix(), cv=5)\n",
    "\n",
    "for disease in scores_disease_rf_no_a_g:\n",
    "    print(\"Disease: \", disease, \"accuracy score: %0.2f (+/- %0.2f)\" % (scores_disease_rf_no_a_g[disease].mean(), scores_disease_rf_no_a_g[disease].std() * 2))\n",
    "for disease in scores_disease_rf_no_sensitive:\n",
    "    print(\"Disease: \", disease, \"accuracy score: %0.2f (+/- %0.2f)\" % (scores_disease_rf_no_sensitive[disease].mean(), scores_disease_rf_no_sensitive[disease].std() * 2))"
   ]
  },
  {
   "cell_type": "code",
   "execution_count": 9,
   "metadata": {
    "scrolled": true
   },
   "outputs": [
    {
     "name": "stdout",
     "output_type": "stream",
     "text": [
      "Disease:  Dental Care accuracy score: 0.50 (+/- 0.03)\n",
      "Disease:  Hypertension accuracy score: 0.49 (+/- 0.04)\n",
      "Disease:  HighCholesterol accuracy score: 0.50 (+/- 0.03)\n",
      "Disease:  Overweight accuracy score: 0.54 (+/- 0.05)\n",
      "Disease:  Arthritis accuracy score: 0.59 (+/- 0.03)\n",
      "Disease:  GenericProblem accuracy score: 0.64 (+/- 0.02)\n",
      "Disease:  SinusInfection accuracy score: 0.67 (+/- 0.02)\n",
      "Disease:  Dental Care accuracy score: 0.50 (+/- 0.03)\n",
      "Disease:  Hypertension accuracy score: 0.49 (+/- 0.04)\n",
      "Disease:  HighCholesterol accuracy score: 0.50 (+/- 0.03)\n",
      "Disease:  Overweight accuracy score: 0.54 (+/- 0.05)\n",
      "Disease:  Arthritis accuracy score: 0.59 (+/- 0.03)\n",
      "Disease:  GenericProblem accuracy score: 0.64 (+/- 0.02)\n",
      "Disease:  SinusInfection accuracy score: 0.67 (+/- 0.02)\n"
     ]
    }
   ],
   "source": [
    "scores_disease_knn_no_a_g = {}\n",
    "scores_disease_knn_no_sensitive = {}\n",
    "\n",
    "for disease in common_disease_name:\n",
    "    knn = KNeighborsClassifier(n_neighbors=5, n_jobs=-1)\n",
    "    scores_disease_knn_no_a_g[disease] = cross_val_score(knn, x_no_a_g[x_no_a_g.columns[1:]].as_matrix(), y_most_common[disease].as_matrix(), cv=5)\n",
    "    scores_disease_knn_no_sensitive[disease] = cross_val_score(knn, x_no_sensitive[x_no_sensitive.columns[1:]].as_matrix(), y_most_common[disease].as_matrix(), cv=5)\n",
    "\n",
    "for disease in scores_disease_knn_no_a_g:\n",
    "    print(\"Disease: \", disease, \"accuracy score: %0.2f (+/- %0.2f)\" % (scores_disease_knn_no_a_g[disease].mean(), scores_disease_knn_no_a_g[disease].std() * 2))\n",
    "for disease in scores_disease_knn_no_sensitive:\n",
    "    print(\"Disease: \", disease, \"accuracy score: %0.2f (+/- %0.2f)\" % (scores_disease_knn_no_sensitive[disease].mean(), scores_disease_knn_no_sensitive[disease].std() * 2))"
   ]
  },
  {
   "cell_type": "code",
   "execution_count": 23,
   "metadata": {},
   "outputs": [
    {
     "data": {
      "text/plain": [
       "{'Arthritis': 0.3746425166825548,\n",
       " 'Dental Care': 0.4886211512717537,\n",
       " 'GenericProblem': 0.4410143329658214,\n",
       " 'HighCholesterol': 0.4824016563146998,\n",
       " 'Hypertension': 0.4505716207128447,\n",
       " 'Overweight': 0.3946731234866828,\n",
       " 'SinusInfection': 0.3294663573085847}"
      ]
     },
     "execution_count": 23,
     "metadata": {},
     "output_type": "execute_result"
    }
   ],
   "source": [
    "## investigating age \n",
    "original_ratio = {}\n",
    "for disease in common_disease_name:\n",
    "    y_disease = y[y[disease] == 1]\n",
    "    n_male = 0\n",
    "    n_female = 0\n",
    "    for seqn in y_disease['SEQN'].as_matrix():\n",
    "        if x[x['SEQN'] == seqn].iloc[0]['RIAGENDR'] == 1:\n",
    "            n_male += 1\n",
    "        else:\n",
    "            n_female += 1\n",
    "    original_ratio[disease] = n_male/y_disease.shape[0]\n",
    "original_ratio"
   ]
  },
  {
   "cell_type": "code",
   "execution_count": 45,
   "metadata": {},
   "outputs": [
    {
     "name": "stdout",
     "output_type": "stream",
     "text": [
      "Dental Care 1426 639 1365\n",
      "Hypertension 1387 643 2109\n",
      "HighCholesterol 1382 618 2873\n",
      "Overweight 1049 456 3466\n",
      "Arthritis 688 326 3828\n",
      "GenericProblem 452 200 4080\n",
      "SinusInfection 470 201 4349\n"
     ]
    },
    {
     "data": {
      "text/plain": [
       "{'Arthritis': 0.4738372093023256,\n",
       " 'Dental Care': 0.4481065918653576,\n",
       " 'GenericProblem': 0.4424778761061947,\n",
       " 'HighCholesterol': 0.447178002894356,\n",
       " 'Hypertension': 0.46359048305695744,\n",
       " 'Overweight': 0.43469971401334606,\n",
       " 'SinusInfection': 0.4276595744680851}"
      ]
     },
     "execution_count": 45,
     "metadata": {},
     "output_type": "execute_result"
    }
   ],
   "source": [
    "classifier_ratio = {}\n",
    "for disease in common_disease_name:\n",
    "    knn = KNeighborsClassifier(n_neighbors=5, n_jobs=-1)\n",
    "    knn.fit(x_no_sensitive[x_no_sensitive.columns[1:]].as_matrix(), y_most_common[disease].as_matrix())\n",
    "    predicted = knn.predict(x_no_sensitive[x_no_sensitive.columns[1:]].as_matrix())\n",
    "    n_male = 0\n",
    "    n_patient = 0\n",
    "    for idx in range(len(predicted)):\n",
    "        if predicted[idx] == 1:\n",
    "            n_patient += 1\n",
    "            if x.iloc[idx]['RIAGENDR'] == 1:\n",
    "                n_male += 1\n",
    "            if x.iloc[idx]['RIAGENDR'] == 2:\n",
    "                n_female += 1\n",
    "    classifier_ratio[disease] = n_male/n_patient\n",
    "    print(disease, n_patient, n_male, n_female)\n",
    "classifier_ratio"
   ]
  },
  {
   "cell_type": "code",
   "execution_count": null,
   "metadata": {},
   "outputs": [],
   "source": []
  }
 ],
 "metadata": {
  "kernelspec": {
   "display_name": "Python 3",
   "language": "python",
   "name": "python3"
  },
  "language_info": {
   "codemirror_mode": {
    "name": "ipython",
    "version": 3
   },
   "file_extension": ".py",
   "mimetype": "text/x-python",
   "name": "python",
   "nbconvert_exporter": "python",
   "pygments_lexer": "ipython3",
   "version": "3.6.4"
  }
 },
 "nbformat": 4,
 "nbformat_minor": 2
}
